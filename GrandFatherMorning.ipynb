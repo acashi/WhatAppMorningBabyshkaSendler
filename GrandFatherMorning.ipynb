{
 "cells": [
  {
   "cell_type": "markdown",
   "id": "309934f7",
   "metadata": {},
   "source": [
    "### Каждое утро получая от бабушки какую-то пересланную картинку \"С добрым утром\" не знал, что отвечать, поэтому решил сделать скрипт отпрявляющий в нужное время в WhatApp какие религиозные праздники сегодня. "
   ]
  },
  {
   "cell_type": "markdown",
   "id": "4cc84493",
   "metadata": {},
   "source": [
    "#### Но тк не у всех бабушки очень религиозны поэтому оставлю вам тут сендлер погоды с заготовленым текстом."
   ]
  },
  {
   "cell_type": "code",
   "execution_count": 86,
   "id": "90ee95c6",
   "metadata": {},
   "outputs": [],
   "source": [
    "import pywhatkit as pw\n",
    "import schedule\n",
    "import requests\n",
    "import time\n",
    "from bs4 import BeautifulSoup\n",
    "import numpy as np"
   ]
  },
  {
   "cell_type": "markdown",
   "id": "93aeea8a",
   "metadata": {},
   "source": [
    "#### Мои бабушка с дедушкой живут в бузулуке, так что паршу данные на этот город. "
   ]
  },
  {
   "cell_type": "markdown",
   "id": "630c7007",
   "metadata": {},
   "source": [
    "#### Вы можете поменять ссылку и все будет работать. "
   ]
  },
  {
   "cell_type": "code",
   "execution_count": 2,
   "id": "f5a7c4e2",
   "metadata": {},
   "outputs": [],
   "source": [
    "resp = requests.get('https://yandex.ru/pogoda/buzuluk/details?via=ms#17')"
   ]
  },
  {
   "cell_type": "code",
   "execution_count": 4,
   "id": "98cfa2d4",
   "metadata": {},
   "outputs": [],
   "source": [
    "bs = BeautifulSoup(resp.text)"
   ]
  },
  {
   "cell_type": "markdown",
   "id": "501f2fc9",
   "metadata": {},
   "source": [
    "#### Привожу данные в удобный вид"
   ]
  },
  {
   "cell_type": "code",
   "execution_count": 79,
   "id": "f56f39c6",
   "metadata": {},
   "outputs": [],
   "source": [
    "weatherratstr = str()"
   ]
  },
  {
   "cell_type": "code",
   "execution_count": 80,
   "id": "69a93a82",
   "metadata": {},
   "outputs": [],
   "source": [
    "for i in bs.find(class_='weather-table').find_all(class_='weather-table__row'):\n",
    "    \n",
    "    for j in i.find(class_='a11y-hidden'):\n",
    "        weather = weather + j.text.capitalize() + ' ' + i.find(class_='weather-table__body-cell weather-table__body-cell_type_condition').text + '\\n'"
   ]
  },
  {
   "cell_type": "markdown",
   "id": "18d7273c",
   "metadata": {},
   "source": [
    "#### Поменяйте время и номер"
   ]
  },
  {
   "cell_type": "code",
   "execution_count": 92,
   "id": "0aa37e40",
   "metadata": {},
   "outputs": [],
   "source": [
    "phone_number = '+**********'\n",
    "time_to = '06:28'"
   ]
  },
  {
   "cell_type": "code",
   "execution_count": 91,
   "id": "20eabfab",
   "metadata": {},
   "outputs": [
    {
     "ename": "KeyboardInterrupt",
     "evalue": "",
     "output_type": "error",
     "traceback": [
      "\u001b[0;31m---------------------------------------------------------------------------\u001b[0m",
      "\u001b[0;31mKeyboardInterrupt\u001b[0m                         Traceback (most recent call last)",
      "\u001b[0;32m/var/folders/pc/vp2cqjv54nq8l3y4k39ssw6h0000gn/T/ipykernel_10217/2023463339.py\u001b[0m in \u001b[0;36m<module>\u001b[0;34m\u001b[0m\n\u001b[1;32m     11\u001b[0m \u001b[0;32mwhile\u001b[0m \u001b[0;32mTrue\u001b[0m\u001b[0;34m:\u001b[0m\u001b[0;34m\u001b[0m\u001b[0;34m\u001b[0m\u001b[0m\n\u001b[1;32m     12\u001b[0m     \u001b[0mschedule\u001b[0m\u001b[0;34m.\u001b[0m\u001b[0mrun_pending\u001b[0m\u001b[0;34m(\u001b[0m\u001b[0;34m)\u001b[0m\u001b[0;34m\u001b[0m\u001b[0;34m\u001b[0m\u001b[0m\n\u001b[0;32m---> 13\u001b[0;31m     \u001b[0mtime\u001b[0m\u001b[0;34m.\u001b[0m\u001b[0msleep\u001b[0m\u001b[0;34m(\u001b[0m\u001b[0;36m1\u001b[0m\u001b[0;34m)\u001b[0m\u001b[0;34m\u001b[0m\u001b[0;34m\u001b[0m\u001b[0m\n\u001b[0m\u001b[1;32m     14\u001b[0m \u001b[0;34m\u001b[0m\u001b[0m\n",
      "\u001b[0;31mKeyboardInterrupt\u001b[0m: "
     ]
    }
   ],
   "source": [
    "def job():\n",
    "    resp = requests.get('https://yandex.ru/pogoda/buzuluk/details?via=ms#17')\n",
    "    bs = BeautifulSoup(resp.text)\n",
    "    weather = str()\n",
    "    for i in bs.find(class_='weather-table').find_all(class_='weather-table__row'):\n",
    "        for j in i.find(class_='a11y-hidden'):\n",
    "            weather = weather + j.text.capitalize() + ' ' + i.find(class_='weather-table__body-cell weather-table__body-cell_type_condition').text + '\\n'\n",
    "    pw.sendwhatmsg_instantly(phone_no=phone_number, message=f'С добрым утром и отличного настроения!\\n\\nПогода на сегодня:\\n{weather}')\n",
    "\n",
    "schedule.every().day.at(time_to).do(job)\n",
    "while True:\n",
    "    schedule.run_pending()\n",
    "    time.sleep(1)\n",
    "\n"
   ]
  },
  {
   "cell_type": "code",
   "execution_count": null,
   "id": "5ce7c858",
   "metadata": {},
   "outputs": [],
   "source": [
    "\n"
   ]
  }
 ],
 "metadata": {
  "kernelspec": {
   "display_name": "Python 3 (ipykernel)",
   "language": "python",
   "name": "python3"
  },
  "language_info": {
   "codemirror_mode": {
    "name": "ipython",
    "version": 3
   },
   "file_extension": ".py",
   "mimetype": "text/x-python",
   "name": "python",
   "nbconvert_exporter": "python",
   "pygments_lexer": "ipython3",
   "version": "3.9.7"
  }
 },
 "nbformat": 4,
 "nbformat_minor": 5
}
